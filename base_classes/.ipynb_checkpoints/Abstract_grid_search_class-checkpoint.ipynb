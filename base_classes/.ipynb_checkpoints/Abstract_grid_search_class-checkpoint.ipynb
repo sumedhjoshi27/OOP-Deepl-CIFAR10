{
 "cells": [
  {
   "cell_type": "code",
   "execution_count": null,
   "id": "parental-cowboy",
   "metadata": {},
   "outputs": [],
   "source": [
    "\"\"\"\n",
    "Creates an abstract gridsearch class which defines the hyperparameter optimizatio process\n",
    "\n",
    "The optimal set of hyperparameters are found for the CNN model\n",
    "\"\"\"\n",
    "\n",
    "from sklearn.model_selection import GridSearchCV\n",
    "from keras.wrappers.scikit_learn import KerasClassifier\n",
    "from base_classes.Abstract_base_class import BaseModel\n",
    "\n",
    "class GridSearchBase(BaseModel):\n",
    "    \n",
    "    def __init__(self,config,dataset):\n",
    "        \"\"\"\n",
    "        Initalizes the grid search parameters\n",
    "        \n",
    "        :param config: the Json configuration file\n",
    "        :return none\n",
    "        :raise none\n",
    "        \"\"\"\n",
    "        \n",
    "        self.config = config\n",
    "        \n",
    "        #Dataset\n",
    "        self.dataset = dataset\n",
    "        \n",
    "        #Scikit learn wrapper\n",
    "        self.model_wrapper = 0\n",
    "        \n",
    "        #Dictionary of hyperparameters\n",
    "        self.param_grid = {}\n",
    "        \n",
    "        #Parallel processing option, -1 for true and 1 for false\n",
    "        self.n_jobs = 1\n",
    "        \n",
    "        #Grid search model\n",
    "        self.grid = GridSearchCV(self.model_wrapper, self.param_grid)"
   ]
  }
 ],
 "metadata": {
  "kernelspec": {
   "display_name": "Python 3",
   "language": "python",
   "name": "python3"
  },
  "language_info": {
   "codemirror_mode": {
    "name": "ipython",
    "version": 3
   },
   "file_extension": ".py",
   "mimetype": "text/x-python",
   "name": "python",
   "nbconvert_exporter": "python",
   "pygments_lexer": "ipython3",
   "version": "3.8.3"
  }
 },
 "nbformat": 4,
 "nbformat_minor": 5
}
